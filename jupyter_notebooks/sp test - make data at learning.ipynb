{
 "cells": [
  {
   "cell_type": "code",
   "execution_count": 7,
   "metadata": {},
   "outputs": [],
   "source": [
    "import sys\n",
    "sys.path.append('d:/myai/stock_predict')"
   ]
  },
  {
   "cell_type": "code",
   "execution_count": 8,
   "metadata": {},
   "outputs": [],
   "source": [
    "from src.train import Train\n",
    "from src.hparams import HParams"
   ]
  },
  {
   "cell_type": "code",
   "execution_count": 9,
   "metadata": {},
   "outputs": [],
   "source": [
    "from os.path import join"
   ]
  },
  {
   "cell_type": "code",
   "execution_count": 10,
   "metadata": {},
   "outputs": [],
   "source": [
    "opath_root = 'd:/myai/models_to2017'\n",
    "data_path = 'd:/myai/data/20seq_data_2018/sequence_data'\n",
    "# data_path = 'd:/myai/data/20seq_data_from2017_to2017/sequence_data'"
   ]
  },
  {
   "cell_type": "code",
   "execution_count": 11,
   "metadata": {},
   "outputs": [],
   "source": [
    "sp2 = Train()"
   ]
  },
  {
   "cell_type": "markdown",
   "metadata": {},
   "source": [
    "# Many to one basic"
   ]
  },
  {
   "cell_type": "code",
   "execution_count": 12,
   "metadata": {
    "scrolled": true
   },
   "outputs": [
    {
     "name": "stdout",
     "output_type": "stream",
     "text": [
      "Label Range: {0: [-30, -20], 1: [-20, -10], 2: [-10, 0], 3: [0, 10], 4: [10, 20], 5: [20, 31]}\n",
      "Loading stock data by compnay name\n",
      "Number of data: 433086, 433086\n",
      "test mode\n",
      "Num of layers: 1\n",
      "Tensor(\"evaluation/strided_slice:0\", shape=(?,), dtype=int64, device=/device:GPU:0)\n",
      "Tensor(\"y:0\", shape=(?, 1), dtype=int64, device=/device:GPU:0)\n",
      "Tensor(\"evaluation/Reshape:0\", shape=(?, 1), dtype=int64, device=/device:GPU:0)\n",
      "Reading model parameters from d:/myai/models_to2017\\20seq_model_2017_h200_lr001_l1_mto1_norm\\loss3788.445296_acc3242.055084_epoch1-5000\n",
      "INFO:tensorflow:Restoring parameters from d:/myai/models_to2017\\20seq_model_2017_h200_lr001_l1_mto1_norm\\loss3788.445296_acc3242.055084_epoch1-5000\n",
      "[Test Accuracy] duration: 144s test_loss: 0.675869 accuracy: 0.710478\n"
     ]
    },
    {
     "name": "stderr",
     "output_type": "stream",
     "text": [
      "C:\\Users\\gilgarad\\AppData\\Local\\Continuum\\anaconda3\\lib\\site-packages\\sklearn\\metrics\\classification.py:1135: UndefinedMetricWarning: Precision and F-score are ill-defined and being set to 0.0 in labels with no predicted samples.\n",
      "  'precision', 'predicted', average, warn_for)\n"
     ]
    },
    {
     "name": "stdout",
     "output_type": "stream",
     "text": [
      "             precision    recall  f1-score   support\n",
      "\n",
      "          0       0.00      0.00      0.00       178\n",
      "          1       0.47      0.00      0.01      3006\n",
      "          2       0.33      0.00      0.00    115887\n",
      "          3       0.71      1.00      0.83    306377\n",
      "          4       0.07      0.00      0.00      4877\n",
      "          5       0.00      0.00      0.00       719\n",
      "\n",
      "avg / total       0.60      0.71      0.59    431044\n",
      "\n"
     ]
    }
   ],
   "source": [
    "# Sum of all + concat with last outputs\n",
    "model_path = join(opath_root, '20seq_model_2017_h200_lr001_l1_mto1_norm')\n",
    "hparams = HParams(use_gpu=True, rnn_type='gru', mode=2, batch_size=100,\n",
    "                  feature_length=35, attention_type=-1, sequence_length=20, use_bidirectional=True, dim_hidden=200,\n",
    "                  label_term=10, learning_rate=0.001, num_layers=1, data_status=1)\n",
    "sp2.test(model_path=model_path, data_path=data_path, model_name='rnn', hparams=hparams)"
   ]
  },
  {
   "cell_type": "code",
   "execution_count": 13,
   "metadata": {
    "scrolled": true
   },
   "outputs": [
    {
     "name": "stdout",
     "output_type": "stream",
     "text": [
      "Label Range: {0: [-30, 0], 1: [0, 31]}\n",
      "Loading stock data by compnay name\n",
      "Number of data: 433086, 433086\n",
      "test mode\n",
      "Num of layers: 1\n",
      "Tensor(\"evaluation/strided_slice:0\", shape=(?,), dtype=int64, device=/device:GPU:0)\n",
      "Tensor(\"y:0\", shape=(?, 1), dtype=int64, device=/device:GPU:0)\n",
      "Tensor(\"evaluation/Reshape:0\", shape=(?, 1), dtype=int64, device=/device:GPU:0)\n",
      "Reading model parameters from d:/myai/models_to2017\\20seq_model_2017_h200_lr001_l1_mto1\\loss2533.860315_acc2697.704590_epoch2-15000\n",
      "INFO:tensorflow:Restoring parameters from d:/myai/models_to2017\\20seq_model_2017_h200_lr001_l1_mto1\\loss2533.860315_acc2697.704590_epoch2-15000\n",
      "[Test Accuracy] duration: 76s test_loss: 0.592003 accuracy: 0.723532\n",
      "             precision    recall  f1-score   support\n",
      "\n",
      "          0       0.33      0.00      0.00    119071\n",
      "          1       0.72      1.00      0.84    311973\n",
      "\n",
      "avg / total       0.62      0.72      0.61    431044\n",
      "\n"
     ]
    }
   ],
   "source": [
    "# Sum of all + concat with last outputs\n",
    "model_path = join(opath_root, '20seq_model_2017_h200_lr001_l1_mto1')\n",
    "hparams = HParams(use_gpu=True, rnn_type='gru', mode=2, batch_size=100,\n",
    "                  feature_length=35, attention_type=-1, sequence_length=20, use_bidirectional=True, dim_hidden=200, \n",
    "                  label_term=30, learning_rate=0.001, num_layers=1, data_status=1, normalize=False)\n",
    "sp2.test(model_path=model_path, data_path=data_path, model_name='rnn', hparams=hparams)"
   ]
  },
  {
   "cell_type": "code",
   "execution_count": 14,
   "metadata": {},
   "outputs": [
    {
     "name": "stdout",
     "output_type": "stream",
     "text": [
      "Label Range: {0: [-30, 0], 1: [0, 31]}\n",
      "Loading stock data by compnay name\n",
      "Number of data: 433086, 433086\n",
      "test mode\n",
      "Num of layers: 1\n",
      "Tensor(\"evaluation/strided_slice:0\", shape=(?,), dtype=int64, device=/device:GPU:0)\n",
      "Tensor(\"y:0\", shape=(?, 1), dtype=int64, device=/device:GPU:0)\n",
      "Tensor(\"evaluation/Reshape:0\", shape=(?, 1), dtype=int64, device=/device:GPU:0)\n",
      "Reading model parameters from d:/myai/models_to2017\\20seq_model_2017_h400_lr001_l1_mto1_norm\\loss3146.870030_acc3370.211113_epoch1-5000\n",
      "INFO:tensorflow:Restoring parameters from d:/myai/models_to2017\\20seq_model_2017_h400_lr001_l1_mto1_norm\\loss3146.870030_acc3370.211113_epoch1-5000\n",
      "[Test Accuracy] duration: 173s test_loss: 0.589060 accuracy: 0.723486\n",
      "             precision    recall  f1-score   support\n",
      "\n",
      "          0       0.49      0.00      0.01    119071\n",
      "          1       0.72      1.00      0.84    311973\n",
      "\n",
      "avg / total       0.66      0.72      0.61    431044\n",
      "\n"
     ]
    }
   ],
   "source": [
    "# Sum of all + concat with last outputs\n",
    "model_path = join(opath_root, '20seq_model_2017_h400_lr001_l1_mto1_norm')\n",
    "hparams = HParams(use_gpu=True, rnn_type='gru', mode=2, batch_size=100,\n",
    "                  feature_length=35, attention_type=-1, sequence_length=20, use_bidirectional=True, dim_hidden=400, \n",
    "                  label_term=30, learning_rate=0.001, num_layers=1, data_status=1)\n",
    "sp2.test(model_path=model_path, data_path=data_path, model_name='rnn', hparams=hparams)"
   ]
  },
  {
   "cell_type": "code",
   "execution_count": 15,
   "metadata": {},
   "outputs": [
    {
     "name": "stdout",
     "output_type": "stream",
     "text": [
      "Label Range: {0: [-30, 0], 1: [0, 31]}\n",
      "Loading stock data by compnay name\n",
      "Number of data: 433086, 433086\n",
      "test mode\n",
      "Num of layers: 1\n",
      "Tensor(\"evaluation/strided_slice:0\", shape=(?,), dtype=int64, device=/device:GPU:0)\n",
      "Tensor(\"y:0\", shape=(?, 1), dtype=int64, device=/device:GPU:0)\n",
      "Tensor(\"evaluation/Reshape:0\", shape=(?, 1), dtype=int64, device=/device:GPU:0)\n",
      "Reading model parameters from d:/myai/models_to2017\\20seq_model_2017_h400_lr001_l1_mto1\\loss12767.238537_acc13476.583060_epoch3-75000\n",
      "INFO:tensorflow:Restoring parameters from d:/myai/models_to2017\\20seq_model_2017_h400_lr001_l1_mto1\\loss12767.238537_acc13476.583060_epoch3-75000\n",
      "[Test Accuracy] duration: 120s test_loss: 0.595736 accuracy: 0.723523\n",
      "             precision    recall  f1-score   support\n",
      "\n",
      "          0       0.40      0.00      0.00    119071\n",
      "          1       0.72      1.00      0.84    311973\n",
      "\n",
      "avg / total       0.63      0.72      0.61    431044\n",
      "\n"
     ]
    }
   ],
   "source": [
    "# Sum of all + concat with last outputs\n",
    "model_path = join(opath_root, '20seq_model_2017_h400_lr001_l1_mto1')\n",
    "hparams = HParams(use_gpu=True, rnn_type='gru', mode=2, batch_size=100,\n",
    "                  feature_length=35, attention_type=-1, sequence_length=20, use_bidirectional=True, dim_hidden=400, \n",
    "                  label_term=30, learning_rate=0.001, num_layers=1, data_status=1, normalize=False)\n",
    "sp2.test(model_path=model_path, data_path=data_path, model_name='rnn', hparams=hparams)"
   ]
  },
  {
   "cell_type": "code",
   "execution_count": 16,
   "metadata": {},
   "outputs": [
    {
     "name": "stdout",
     "output_type": "stream",
     "text": [
      "Label Range: {0: [-30, 0], 1: [0, 31]}\n",
      "Loading stock data by compnay name\n",
      "Number of data: 433086, 433086\n",
      "test mode\n",
      "Num of layers: 2\n",
      "Tensor(\"evaluation/strided_slice:0\", shape=(?,), dtype=int64, device=/device:GPU:0)\n",
      "Tensor(\"y:0\", shape=(?, 1), dtype=int64, device=/device:GPU:0)\n",
      "Tensor(\"evaluation/Reshape:0\", shape=(?, 1), dtype=int64, device=/device:GPU:0)\n",
      "Reading model parameters from d:/myai/models_to2017\\20seq_model_2017_h400_lr001_l2_mto1_norm\\loss9393.772447_acc10102.239004_epoch1-15000\n",
      "INFO:tensorflow:Restoring parameters from d:/myai/models_to2017\\20seq_model_2017_h400_lr001_l2_mto1_norm\\loss9393.772447_acc10102.239004_epoch1-15000\n",
      "[Test Accuracy] duration: 247s test_loss: 0.580601 accuracy: 0.723557\n",
      "             precision    recall  f1-score   support\n",
      "\n",
      "          0       0.53      0.00      0.00    119071\n",
      "          1       0.72      1.00      0.84    311973\n",
      "\n",
      "avg / total       0.67      0.72      0.61    431044\n",
      "\n"
     ]
    }
   ],
   "source": [
    "# Sum of all + concat with last outputs\n",
    "model_path = join(opath_root, '20seq_model_2017_h400_lr001_l2_mto1_norm')\n",
    "hparams = HParams(use_gpu=True, rnn_type='gru', mode=2, batch_size=100,\n",
    "                  feature_length=35, attention_type=-1, sequence_length=20, use_bidirectional=True, dim_hidden=400, \n",
    "                  label_term=30, learning_rate=0.001, num_layers=2, data_status=1)\n",
    "sp2.test(model_path=model_path, data_path=data_path, model_name='rnn', hparams=hparams)"
   ]
  },
  {
   "cell_type": "code",
   "execution_count": 17,
   "metadata": {},
   "outputs": [
    {
     "name": "stdout",
     "output_type": "stream",
     "text": [
      "Label Range: {0: [-30, 0], 1: [0, 31]}\n",
      "Loading stock data by compnay name\n",
      "Number of data: 433086, 433086\n",
      "test mode\n",
      "Num of layers: 2\n",
      "Tensor(\"evaluation/strided_slice:0\", shape=(?,), dtype=int64, device=/device:GPU:0)\n",
      "Tensor(\"y:0\", shape=(?, 1), dtype=int64, device=/device:GPU:0)\n",
      "Tensor(\"evaluation/Reshape:0\", shape=(?, 1), dtype=int64, device=/device:GPU:0)\n",
      "Reading model parameters from d:/myai/models_to2017\\20seq_model_2017_h400_lr001_l2_mto1\\loss12635.782760_acc13482.199916_epoch1-20000\n",
      "INFO:tensorflow:Restoring parameters from d:/myai/models_to2017\\20seq_model_2017_h400_lr001_l2_mto1\\loss12635.782760_acc13482.199916_epoch1-20000\n",
      "[Test Accuracy] duration: 188s test_loss: 0.597295 accuracy: 0.723532\n",
      "             precision    recall  f1-score   support\n",
      "\n",
      "          0       0.33      0.00      0.00    119071\n",
      "          1       0.72      1.00      0.84    311973\n",
      "\n",
      "avg / total       0.62      0.72      0.61    431044\n",
      "\n"
     ]
    }
   ],
   "source": [
    "# Sum of all + concat with last outputs\n",
    "model_path = join(opath_root, '20seq_model_2017_h400_lr001_l2_mto1')\n",
    "hparams = HParams(use_gpu=True, rnn_type='gru', mode=2, batch_size=100,\n",
    "                  feature_length=35, attention_type=-1, sequence_length=20, use_bidirectional=True, dim_hidden=400, \n",
    "                  label_term=30, learning_rate=0.001, num_layers=2, data_status=1, normalize=False)\n",
    "sp2.test(model_path=model_path, data_path=data_path, model_name='rnn', hparams=hparams)"
   ]
  },
  {
   "cell_type": "code",
   "execution_count": 18,
   "metadata": {},
   "outputs": [
    {
     "name": "stdout",
     "output_type": "stream",
     "text": [
      "Label Range: {0: [-30, 0], 1: [0, 31]}\n",
      "Loading stock data by compnay name\n",
      "Number of data: 433086, 433086\n",
      "test mode\n",
      "Num of layers: 3\n",
      "Tensor(\"evaluation/strided_slice:0\", shape=(?,), dtype=int64, device=/device:GPU:0)\n",
      "Tensor(\"y:0\", shape=(?, 1), dtype=int64, device=/device:GPU:0)\n",
      "Tensor(\"evaluation/Reshape:0\", shape=(?, 1), dtype=int64, device=/device:GPU:0)\n",
      "Reading model parameters from d:/myai/models_to2017\\20seq_model_2017_h400_lr001_l3_mto1\\loss15809.056651_acc16845.573171_epoch1-25000\n",
      "INFO:tensorflow:Restoring parameters from d:/myai/models_to2017\\20seq_model_2017_h400_lr001_l3_mto1\\loss15809.056651_acc16845.573171_epoch1-25000\n",
      "[Test Accuracy] duration: 262s test_loss: 0.596019 accuracy: 0.723534\n",
      "             precision    recall  f1-score   support\n",
      "\n",
      "          0       0.00      0.00      0.00    119071\n",
      "          1       0.72      1.00      0.84    311973\n",
      "\n",
      "avg / total       0.52      0.72      0.61    431044\n",
      "\n"
     ]
    },
    {
     "name": "stderr",
     "output_type": "stream",
     "text": [
      "C:\\Users\\gilgarad\\AppData\\Local\\Continuum\\anaconda3\\lib\\site-packages\\sklearn\\metrics\\classification.py:1135: UndefinedMetricWarning: Precision and F-score are ill-defined and being set to 0.0 in labels with no predicted samples.\n",
      "  'precision', 'predicted', average, warn_for)\n"
     ]
    }
   ],
   "source": [
    "# Sum of all + concat with last outputs\n",
    "model_path = join(opath_root, '20seq_model_2017_h400_lr001_l3_mto1')\n",
    "hparams = HParams(use_gpu=True, rnn_type='gru', mode=2, batch_size=100,\n",
    "                  feature_length=35, attention_type=-1, sequence_length=20, use_bidirectional=True, dim_hidden=400, \n",
    "                  label_term=30, learning_rate=0.001, num_layers=3, data_status=1, normalize=False)\n",
    "sp2.test(model_path=model_path, data_path=data_path, model_name='rnn', hparams=hparams)"
   ]
  },
  {
   "cell_type": "code",
   "execution_count": 19,
   "metadata": {},
   "outputs": [
    {
     "name": "stdout",
     "output_type": "stream",
     "text": [
      "Label Range: {0: [-30, 0], 1: [0, 31]}\n",
      "Loading stock data by compnay name\n",
      "Number of data: 433086, 433086\n",
      "test mode\n",
      "Num of layers: 4\n",
      "Tensor(\"evaluation/strided_slice:0\", shape=(?,), dtype=int64, device=/device:GPU:0)\n",
      "Tensor(\"y:0\", shape=(?, 1), dtype=int64, device=/device:GPU:0)\n",
      "Tensor(\"evaluation/Reshape:0\", shape=(?, 1), dtype=int64, device=/device:GPU:0)\n",
      "Reading model parameters from d:/myai/models_to2017\\20seq_model_2017_h400_lr001_l4_mto1\\loss9494.669846_acc10113.234568_epoch1-15000\n",
      "INFO:tensorflow:Restoring parameters from d:/myai/models_to2017\\20seq_model_2017_h400_lr001_l4_mto1\\loss9494.669846_acc10113.234568_epoch1-15000\n",
      "[Test Accuracy] duration: 336s test_loss: 0.590860 accuracy: 0.723534\n",
      "             precision    recall  f1-score   support\n",
      "\n",
      "          0       0.00      0.00      0.00    119071\n",
      "          1       0.72      1.00      0.84    311973\n",
      "\n",
      "avg / total       0.52      0.72      0.61    431044\n",
      "\n"
     ]
    },
    {
     "name": "stderr",
     "output_type": "stream",
     "text": [
      "C:\\Users\\gilgarad\\AppData\\Local\\Continuum\\anaconda3\\lib\\site-packages\\sklearn\\metrics\\classification.py:1135: UndefinedMetricWarning: Precision and F-score are ill-defined and being set to 0.0 in labels with no predicted samples.\n",
      "  'precision', 'predicted', average, warn_for)\n"
     ]
    }
   ],
   "source": [
    "# Sum of all + concat with last outputs\n",
    "model_path = join(opath_root, '20seq_model_2017_h400_lr001_l4_mto1')\n",
    "hparams = HParams(use_gpu=True, rnn_type='gru', mode=2, batch_size=100,\n",
    "                  feature_length=35, attention_type=-1, sequence_length=20, use_bidirectional=True, dim_hidden=400, \n",
    "                  label_term=30, learning_rate=0.001, num_layers=4, data_status=1, normalize=False)\n",
    "sp2.test(model_path=model_path, data_path=data_path, model_name='rnn', hparams=hparams)"
   ]
  },
  {
   "cell_type": "markdown",
   "metadata": {},
   "source": [
    "# Many to one with attention"
   ]
  },
  {
   "cell_type": "code",
   "execution_count": null,
   "metadata": {
    "scrolled": true
   },
   "outputs": [],
   "source": [
    "# Sum of all + concat with last outputs\n",
    "data_path = 'd:/myai/data/20seq_data_2018/sequence_data'\n",
    "model_path = join(opath_root, '20seq_model_2017_h200_lr001_l1_mto1_norm_attn')\n",
    "hparams = HParams(use_gpu=True, rnn_type='gru', mode=2, epochs=100, batch_size=100,\n",
    "                  feature_length=35, attention_type=1, sequence_length=20, use_bidirectional=True, dim_hidden=200, \n",
    "                  train_test_ratio=0,\n",
    "                  label_term=30, learning_rate=0.001, num_layers=1, data_status=1)\n",
    "sp2.test(model_path=model_path, data_path=data_path, model_name='rnn_new', hparams=hparams)"
   ]
  },
  {
   "cell_type": "code",
   "execution_count": null,
   "metadata": {
    "scrolled": true
   },
   "outputs": [],
   "source": [
    "# Sum of all + concat with last outputs\n",
    "data_path = 'd:/myai/data/20seq_data_2018/sequence_data'\n",
    "model_path = join(opath_root, '20seq_model_2017_h200_lr001_l1_mto1_attn')\n",
    "hparams = HParams(use_gpu=True, rnn_type='gru', mode=2, epochs=100, batch_size=100,\n",
    "                  feature_length=35, attention_type=1, sequence_length=20, use_bidirectional=True, dim_hidden=200, \n",
    "                  train_test_ratio=0,\n",
    "                  label_term=30, learning_rate=0.001, num_layers=1, data_status=1, normalize=False)\n",
    "sp2.test(model_path=model_path, data_path=data_path, model_name='rnn_new', hparams=hparams)"
   ]
  },
  {
   "cell_type": "code",
   "execution_count": null,
   "metadata": {},
   "outputs": [],
   "source": [
    "# Sum of all + concat with last outputs\n",
    "data_path = 'd:/myai/data/20seq_data_2018/sequence_data'\n",
    "model_path = join(opath_root, '20seq_model_2017_h400_lr001_l1_mto1_norm_attn')\n",
    "hparams = HParams(use_gpu=True, rnn_type='gru', mode=2, epochs=100, batch_size=100,\n",
    "                  feature_length=35, attention_type=1, sequence_length=20, use_bidirectional=True, dim_hidden=400, \n",
    "                  train_test_ratio=0,\n",
    "                  label_term=30, learning_rate=0.001, num_layers=1, data_status=1)\n",
    "sp2.test(model_path=model_path, data_path=data_path, model_name='rnn_new', hparams=hparams)"
   ]
  },
  {
   "cell_type": "code",
   "execution_count": null,
   "metadata": {
    "scrolled": true
   },
   "outputs": [],
   "source": [
    "# Sum of all + concat with last outputs\n",
    "data_path = 'd:/myai/data/20seq_data_2018/sequence_data'\n",
    "model_path = join(opath_root, '20seq_model_2017_h400_lr001_l1_mto1_attn')\n",
    "hparams = HParams(use_gpu=True, rnn_type='gru', mode=2, epochs=100, batch_size=100,\n",
    "                  feature_length=35, attention_type=1, sequence_length=20, use_bidirectional=True, dim_hidden=400, \n",
    "                  train_test_ratio=0,\n",
    "                  label_term=30, learning_rate=0.001, num_layers=1, data_status=1, normalize=False)\n",
    "sp2.test(model_path=model_path, data_path=data_path, model_name='rnn_new', hparams=hparams)"
   ]
  },
  {
   "cell_type": "code",
   "execution_count": null,
   "metadata": {},
   "outputs": [],
   "source": [
    "# Sum of all + concat with last outputs\n",
    "data_path = 'd:/myai/data/20seq_data_2018/sequence_data'\n",
    "model_path = join(opath_root, '20seq_model_2017_h400_lr001_l2_mto1_norm_attn')\n",
    "hparams = HParams(use_gpu=True, rnn_type='gru', mode=2, epochs=100, batch_size=100,\n",
    "                  feature_length=35, attention_type=1, sequence_length=20, use_bidirectional=True, dim_hidden=400, \n",
    "                  train_test_ratio=0,\n",
    "                  label_term=30, learning_rate=0.001, num_layers=2, data_status=1)\n",
    "sp2.test(model_path=model_path, data_path=data_path, model_name='rnn_new', hparams=hparams)"
   ]
  },
  {
   "cell_type": "code",
   "execution_count": null,
   "metadata": {},
   "outputs": [],
   "source": [
    "# Sum of all + concat with last outputs\n",
    "data_path = 'd:/myai/data/20seq_data_2018/sequence_data'\n",
    "model_path = join(opath_root, '20seq_model_2017_h400_lr001_l2_mto1_attn')\n",
    "hparams = HParams(use_gpu=True, rnn_type='gru', mode=2, epochs=100, batch_size=100,\n",
    "                  feature_length=35, attention_type=1, sequence_length=20, use_bidirectional=True, dim_hidden=400,\n",
    "                  train_test_ratio=0,\n",
    "                  label_term=30, learning_rate=0.001, num_layers=2, data_status=1, normalize=False)\n",
    "sp2.test(model_path=model_path, data_path=data_path, model_name='rnn_new', hparams=hparams)"
   ]
  },
  {
   "cell_type": "markdown",
   "metadata": {},
   "source": [
    "# Many to many basic"
   ]
  },
  {
   "cell_type": "code",
   "execution_count": null,
   "metadata": {
    "scrolled": true
   },
   "outputs": [],
   "source": [
    "data_path = 'd:/myai/data/20seq_data_2018/labelled_data_0'\n",
    "model_path = join(opath_root, '20seq_model_2017_h200_lr001_l1_mtom_norm')\n",
    "hparams = HParams(use_gpu=True, rnn_type='gru', mode=0, epochs=100, batch_size=100,\n",
    "                  feature_length=35, attention_type=-1, sequence_length=20, use_bidirectional=True, dim_hidden=200, \n",
    "                  train_test_ratio=0,\n",
    "                  label_term=30, learning_rate=0.001, num_layers=1, data_status=2)\n",
    "sp2.test(model_path=model_path, data_path=data_path, model_name='rnn_new', hparams=hparams)"
   ]
  },
  {
   "cell_type": "code",
   "execution_count": null,
   "metadata": {},
   "outputs": [],
   "source": [
    "data_path = 'd:/myai/data/20seq_data_2018/labelled_data_0'\n",
    "model_path = join(opath_root, '20seq_model_2017_h200_lr001_l1_mtom')\n",
    "hparams = HParams(use_gpu=True, rnn_type='gru', mode=0, epochs=100, batch_size=100,\n",
    "                  feature_length=35, attention_type=-1, sequence_length=20, use_bidirectional=True, dim_hidden=200, \n",
    "                  train_test_ratio=0,\n",
    "                  label_term=30, learning_rate=0.001, num_layers=1, data_status=2, normalize=False)\n",
    "sp2.test(model_path=model_path, data_path=data_path, model_name='rnn_new', hparams=hparams)"
   ]
  },
  {
   "cell_type": "code",
   "execution_count": null,
   "metadata": {},
   "outputs": [],
   "source": []
  },
  {
   "cell_type": "markdown",
   "metadata": {},
   "source": [
    "# Many to many with attention (Currently Not Working)"
   ]
  },
  {
   "cell_type": "code",
   "execution_count": null,
   "metadata": {
    "scrolled": true
   },
   "outputs": [],
   "source": [
    "data_path = 'd:/myai/data/20seq_data_2017/labelled_data_0'\n",
    "output_path = join(opath_root, '20seq_model_2017_h200_lr001_l1_mtom_norm_attn')\n",
    "hparams = HParams(use_gpu=True, rnn_type='gru', mode=0, epochs=100, batch_size=100,\n",
    "                  feature_length=35, attention_type=1, sequence_length=20, use_bidirectional=True, dim_hidden=200, \n",
    "                  label_term=30, learning_rate=0.001, num_layers=1, data_status=2)\n",
    "sp2.training(data_path=data_path, model_name='rnn_new', output_path=output_path, hparams=hparams)"
   ]
  },
  {
   "cell_type": "code",
   "execution_count": null,
   "metadata": {},
   "outputs": [],
   "source": [
    "data_path = 'd:/myai/data/20seq_data_2017/labelled_data_0'\n",
    "output_path = join(opath_root, '20seq_model_2017_h200_lr001_l1_mtom_attn')\n",
    "hparams = HParams(use_gpu=True, rnn_type='gru', mode=0, epochs=100, batch_size=100,\n",
    "                  feature_length=35, attention_type=1, sequence_length=20, use_bidirectional=True, dim_hidden=200, \n",
    "                  label_term=30, learning_rate=0.001, num_layers=1, data_status=2, normalize=False)\n",
    "sp2.training(data_path=data_path, model_name='rnn_new', output_path=output_path, hparams=hparams)"
   ]
  },
  {
   "cell_type": "code",
   "execution_count": null,
   "metadata": {},
   "outputs": [],
   "source": []
  }
 ],
 "metadata": {
  "kernelspec": {
   "display_name": "Python 3",
   "language": "python",
   "name": "python3"
  },
  "language_info": {
   "codemirror_mode": {
    "name": "ipython",
    "version": 3
   },
   "file_extension": ".py",
   "mimetype": "text/x-python",
   "name": "python",
   "nbconvert_exporter": "python",
   "pygments_lexer": "ipython3",
   "version": "3.6.3"
  }
 },
 "nbformat": 4,
 "nbformat_minor": 2
}
