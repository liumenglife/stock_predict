{
 "cells": [
  {
   "cell_type": "code",
   "execution_count": 1,
   "metadata": {},
   "outputs": [],
   "source": [
    "import sys\n",
    "sys.path.append('/Volumes/osx_main2/PythonProject/stock-predict')"
   ]
  },
  {
   "cell_type": "code",
   "execution_count": 2,
   "metadata": {},
   "outputs": [],
   "source": [
    "from src.data.dataset import DataSet"
   ]
  },
  {
   "cell_type": "code",
   "execution_count": 3,
   "metadata": {},
   "outputs": [],
   "source": [
    "# input_path = '/Volumes/osx_sub/data/stock_data/test'\n",
    "# output_path = '/Volumes/osx_sub/data/stock_data/datset_test'\n",
    "# input_path = '/Volumes/osx_sub/data/stock_data/stock_data'\n",
    "# output_path = '/Volumes/osx_sub/data/stock_data/20seq_data'"
   ]
  },
  {
   "cell_type": "code",
   "execution_count": 4,
   "metadata": {},
   "outputs": [
    {
     "name": "stdout",
     "output_type": "stream",
     "text": [
      "Loading stock data by compnay name\n",
      "Elapsed time: 0:00:01.634760\n",
      "Label Range: {0: [-30, -20], 1: [-20, -10], 2: [-10, 0], 3: [0, 10], 4: [10, 20], 5: [20, 31]}\n",
      "Data sequence created. saving now...\n",
      "Elapsed time: 0:00:18.785526\n",
      "77789\n",
      "77789\n"
     ]
    }
   ],
   "source": [
    "input_path = '/Volumes/osx_sub/data/stock_data/test'\n",
    "output_path = '/Volumes/osx_sub/data/stock_data/dataset_test'\n",
    "# new\n",
    "dataset2 = DataSet(data_path=input_path, data_status=0, output_path=output_path, label_price=0, sequence_length=20)"
   ]
  },
  {
   "cell_type": "code",
   "execution_count": 4,
   "metadata": {},
   "outputs": [
    {
     "name": "stdout",
     "output_type": "stream",
     "text": [
      "Loading stock data by compnay name\n",
      "Time elapsed: 0:00:03.509708\n",
      "Label Range: {0: [-30, -20], 1: [-20, -10], 2: [-10, 0], 3: [0, 10], 4: [10, 20], 5: [20, 31]}\n",
      "Data sequence created. saving now...\n",
      "Elapsed time: 0:00:20.598332\n",
      "77789\n",
      "77789\n"
     ]
    }
   ],
   "source": [
    "input_path = '/Volumes/osx_sub/data/stock_data/test'\n",
    "output_path = '/Volumes/osx_sub/data/stock_data/dataset_test'\n",
    "# new\n",
    "dataset2 = DataSet(data_path=input_path, data_status=0, output_path=output_path, label_price=0, sequence_length=20)"
   ]
  },
  {
   "cell_type": "code",
   "execution_count": 9,
   "metadata": {},
   "outputs": [
    {
     "name": "stdout",
     "output_type": "stream",
     "text": [
      "(77789, 20, 7)\n",
      "(77789,)\n"
     ]
    }
   ],
   "source": [
    "print(dataset2.queries.shape)\n",
    "print(dataset2.labels.shape)"
   ]
  },
  {
   "cell_type": "code",
   "execution_count": 5,
   "metadata": {},
   "outputs": [
    {
     "name": "stdout",
     "output_type": "stream",
     "text": [
      "Loading stock data by compnay name\n",
      "Elapsed time: 0:02:13.926655\n",
      "Label Range: {0: [-30, -20], 1: [-20, -10], 2: [-10, 0], 3: [0, 10], 4: [10, 20], 5: [20, 31]}\n",
      "Data sequence created. saving now...\n",
      "Data sequence created. saving now...\n",
      "Data sequence created. saving now...\n",
      "Data sequence created. saving now...\n",
      "Data sequence created. saving now...\n",
      "Data sequence created. saving now...\n",
      "Data sequence created. saving now...\n",
      "Elapsed time: 0:56:18.912791\n",
      "6767608\n",
      "6767608\n"
     ]
    }
   ],
   "source": [
    "input_path = '/Volumes/osx_sub/data/stock_data/stock_data'\n",
    "output_path = '/Volumes/osx_sub/data/stock_data/20seq_data'\n",
    "# new\n",
    "dataset = DataSet(data_path=input_path, data_status=0, output_path=output_path, label_price=0, sequence_length=20)"
   ]
  },
  {
   "cell_type": "code",
   "execution_count": 8,
   "metadata": {},
   "outputs": [
    {
     "name": "stdout",
     "output_type": "stream",
     "text": [
      "(6767608, 20, 7)\n",
      "(6767608,)\n"
     ]
    }
   ],
   "source": [
    "print(dataset.queries.shape)\n",
    "print(dataset.labels.shape)"
   ]
  },
  {
   "cell_type": "code",
   "execution_count": 12,
   "metadata": {},
   "outputs": [],
   "source": [
    "import numpy as np\n",
    "from os.path import join"
   ]
  },
  {
   "cell_type": "code",
   "execution_count": null,
   "metadata": {},
   "outputs": [],
   "source": [
    "# result = dict()\n",
    "# result['queries'] = dataset.queries\n",
    "# result['labels'] = dataset.labels\n",
    "# np.save(join('/Volumes/osx_sub/data/stock_data/20seq_data', 'labelled_data_2', 'x_y'), result)"
   ]
  },
  {
   "cell_type": "code",
   "execution_count": null,
   "metadata": {},
   "outputs": [],
   "source": [
    "np.save(join('/Volumes/osx_sub/data/stock_data/20seq_data', 'labelled_data_2', 'x'), dataset.queries)"
   ]
  },
  {
   "cell_type": "code",
   "execution_count": null,
   "metadata": {},
   "outputs": [],
   "source": []
  },
  {
   "cell_type": "code",
   "execution_count": 4,
   "metadata": {},
   "outputs": [
    {
     "name": "stdout",
     "output_type": "stream",
     "text": [
      "Loading stock data by compnay name\n",
      "Label Range: {0: [-30, -20], 1: [-20, -10], 2: [-10, 0], 3: [0, 10], 4: [10, 20], 5: [20, 31]}\n",
      "[[3 1 1 ... 2 3 2]\n",
      " [1 1 1 ... 3 2 2]\n",
      " [1 1 3 ... 2 2 3]\n",
      " ...\n",
      " [3 2 3 ... 3 2 2]\n",
      " [2 3 2 ... 2 2 3]\n",
      " [3 2 3 ... 2 3 3]]\n",
      "<class 'numpy.ndarray'>\n",
      "[3 1 1 1 3 3 2 4 4 1 2 3 4 2 3 2 2 2 3 2]\n",
      "<class 'numpy.ndarray'>\n",
      "77789\n",
      "77789\n"
     ]
    }
   ],
   "source": [
    "# new\n",
    "dataset = DataSet(data_path=input_path, data_status=0, output_path=output_path, label_price=0, sequence_length=20)"
   ]
  },
  {
   "cell_type": "code",
   "execution_count": null,
   "metadata": {},
   "outputs": [],
   "source": []
  },
  {
   "cell_type": "code",
   "execution_count": null,
   "metadata": {},
   "outputs": [],
   "source": []
  },
  {
   "cell_type": "code",
   "execution_count": null,
   "metadata": {},
   "outputs": [],
   "source": []
  },
  {
   "cell_type": "code",
   "execution_count": 4,
   "metadata": {},
   "outputs": [
    {
     "name": "stdout",
     "output_type": "stream",
     "text": [
      "Loading stock data by compnay name\n",
      "Reformat by given sequence length\n",
      "Label Range: {0: [-30, -20], 1: [-20, -10], 2: [-10, 0], 3: [0, 10], 4: [10, 20], 5: [20, 31]}\n",
      "[[3 1 1 ... 2 3 2]\n",
      " [1 1 1 ... 3 2 2]\n",
      " [1 1 3 ... 2 2 3]\n",
      " ...\n",
      " [3 2 3 ... 3 2 2]\n",
      " [2 3 2 ... 2 2 3]\n",
      " [3 2 3 ... 2 3 3]]\n",
      "<class 'numpy.ndarray'>\n",
      "[3 1 1 1 3 3 2 4 4 1 2 3 4 2 3 2 2 2 3 2]\n",
      "<class 'numpy.ndarray'>\n",
      "77789\n",
      "77789\n"
     ]
    }
   ],
   "source": [
    "# old\n",
    "# dataset = DataSet_old(data_path=input_path, sequence_length=20)"
   ]
  },
  {
   "cell_type": "code",
   "execution_count": null,
   "metadata": {},
   "outputs": [],
   "source": []
  }
 ],
 "metadata": {
  "kernelspec": {
   "display_name": "stock_predict",
   "language": "python",
   "name": "stock_predict"
  },
  "language_info": {
   "codemirror_mode": {
    "name": "ipython",
    "version": 3
   },
   "file_extension": ".py",
   "mimetype": "text/x-python",
   "name": "python",
   "nbconvert_exporter": "python",
   "pygments_lexer": "ipython3",
   "version": "3.6.4"
  }
 },
 "nbformat": 4,
 "nbformat_minor": 2
}
